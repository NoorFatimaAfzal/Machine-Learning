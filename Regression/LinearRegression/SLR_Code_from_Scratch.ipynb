{
  "nbformat": 4,
  "nbformat_minor": 0,
  "metadata": {
    "colab": {
      "provenance": []
    },
    "kernelspec": {
      "name": "python3",
      "display_name": "Python 3"
    },
    "language_info": {
      "name": "python"
    }
  },
  "cells": [
    {
      "cell_type": "markdown",
      "source": [
        "# Simple Linear Regression Implementation\n",
        "\n",
        "## Overview\n",
        "This implementation provides a basic example of Simple Linear Regression using Python. The `SimpleLinearRegression` class is designed to fit a linear model to a dataset, predict values, and evaluate the model's performance.\n",
        "\n",
        "## Class Definition\n",
        "\n",
        "### `SimpleLinearRegression`\n",
        "A class to perform simple linear regression, including fitting the model, predicting new values, and plotting the regression line.\n",
        "\n",
        "#### Methods\n",
        "\n",
        "1. **`__init__()`**\n",
        "   - Initializes the class with attributes for the slope, intercept, residuals, RSS (Residual Sum of Squares), TSS (Total Sum of Squares), and R-squared value.\n",
        "\n",
        "2. **`fit(x, y)`**\n",
        "   - Fits the linear regression model to the provided data.\n",
        "   - **Parameters**:\n",
        "     - `x`: Array-like or list of feature values.\n",
        "     - `y`: Array-like or list of target values.\n",
        "   - **Calculations**:\n",
        "     - Computes the mean of `x` and `y`.\n",
        "     - Calculates the slope and intercept of the regression line.\n",
        "     - Predicts the target values using the computed slope and intercept.\n",
        "     - Calculates residuals, RSS, TSS, and R-squared to evaluate the model.\n",
        "\n",
        "3. **`predict(x)`**\n",
        "   - Predicts target values for given feature values using the fitted model.\n",
        "   - **Parameters**:\n",
        "     - `x`: Array-like or list of feature values for prediction.\n",
        "\n",
        "4. **`get_r_squared()`**\n",
        "   - Returns the R-squared value of the fitted model.\n",
        "   - Raises a `ValueError` if the model has not been fitted yet.\n",
        "\n",
        "5. **`plot_regression_line(x, y)`**\n",
        "   - Plots the data points and the regression line.\n",
        "   - **Parameters**:\n",
        "     - `x`: Array-like or list of feature values.\n",
        "     - `y`: Array-like or list of target values.\n",
        "   - Displays a scatter plot of the data points and the fitted regression line.\n",
        "\n",
        "## Key Concepts\n",
        "\n",
        "- **Slope**: Measures the change in the target variable for a one-unit change in the feature variable.\n",
        "- **Intercept**: The value of the target variable when the feature variable is zero.\n",
        "- **Residuals**: The difference between the actual target values and the predicted values.\n",
        "- **RSS (Residual Sum of Squares)**: The sum of the squares of the residuals.\n",
        "- **TSS (Total Sum of Squares)**: The sum of the squares of the differences between the actual target values and their mean.\n",
        "- **R-squared**: The proportion of variance in the target variable that is predictable from the feature variable. It is a measure of how well the model fits the data.\n"
      ],
      "metadata": {
        "id": "Ju2hjJxqJ8C6"
      }
    },
    {
      "cell_type": "code",
      "execution_count": null,
      "metadata": {
        "id": "MFCyQZLZsojO"
      },
      "outputs": [],
      "source": [
        "import numpy as np\n",
        "import matplotlib.pyplot as plt\n",
        "\n",
        "class SimpleLinearRegression:\n",
        "    def __init__(self):\n",
        "        self.slope_ = None\n",
        "        self.intercept_ = None\n",
        "        self.residual_ = None\n",
        "        self.RSS = None\n",
        "        self.TSS = None\n",
        "        self.Rsquared_ = None\n",
        "\n",
        "    def fit(self, x, y):\n",
        "        # Ensure x and y are numpy arrays\n",
        "        x = np.array(x)\n",
        "        y = np.array(y)\n",
        "\n",
        "        # Check that x and y have the same length\n",
        "        if len(x) != len(y):\n",
        "            raise ValueError(\"x and y must have the same length\")\n",
        "\n",
        "        # Calculate means\n",
        "        x_mean = np.mean(x)\n",
        "        y_mean = np.mean(y)\n",
        "\n",
        "        # Calculate slope (m)\n",
        "        numerator = np.sum((x - x_mean) * (y - y_mean))\n",
        "        denominator = np.sum((x - x_mean) ** 2)\n",
        "        self.slope_ = numerator / denominator\n",
        "\n",
        "        # Calculate intercept (c)\n",
        "        self.intercept_ = y_mean - self.slope_ * x_mean\n",
        "\n",
        "        # Predict values\n",
        "        y_pred = self.intercept_ + self.slope_ * x\n",
        "\n",
        "        # Calculate residuals\n",
        "        self.residual_ = y - y_pred\n",
        "\n",
        "        # Calculate RSS (Residual Sum of Squares)\n",
        "        self.RSS = np.sum(self.residual_ ** 2)\n",
        "\n",
        "        # Calculate TSS (Total Sum of Squares)\n",
        "        self.TSS = np.sum((y - y_mean) ** 2)\n",
        "\n",
        "        # Calculate R^2 (Coefficient of Determination)\n",
        "        self.Rsquared_ = 1 - (self.RSS / self.TSS)\n",
        "\n",
        "    def predict(self, x):\n",
        "        return self.intercept_ + self.slope_ * x\n",
        "\n",
        "    def get_r_squared(self):\n",
        "        if self.Rsquared_ is None:\n",
        "            raise ValueError(\"Model has not been fitted yet\")\n",
        "        return self.Rsquared_\n",
        "\n",
        "    def plot_regression_line(self, x, y):\n",
        "        # Ensure x and y are numpy arrays\n",
        "        x = np.array(x)\n",
        "        y = np.array(y)\n",
        "\n",
        "        # Predict values\n",
        "        y_pred = self.predict(x)\n",
        "\n",
        "        # Plot data points\n",
        "        plt.scatter(x, y, color='blue', label='Data points')\n",
        "\n",
        "        # Plot regression line\n",
        "        plt.plot(x, y_pred, color='red', label='Regression line')\n",
        "\n",
        "        # Add labels and title\n",
        "        plt.xlabel('X')\n",
        "        plt.ylabel('Y')\n",
        "        plt.title('Simple Linear Regression')\n",
        "        plt.legend()\n",
        "\n",
        "        # Show plot\n",
        "        plt.show()"
      ]
    },
    {
      "cell_type": "code",
      "source": [
        "import numpy as np\n",
        "\n",
        "# Define some example data\n",
        "x = np.array([1, 2, 3, 4, 5])\n",
        "y = np.array([2, 4, 5, 4, 5])\n",
        "\n",
        "# Create an instance of the SimpleLinearRegression class\n",
        "model = SimpleLinearRegression()\n",
        "\n",
        "# Fit the model using the data\n",
        "model.fit(x, y)\n",
        "\n",
        "# Make predictions\n",
        "predictions = model.predict(x)\n",
        "\n",
        "# Print the predictions\n",
        "print(\"Predictions:\", predictions)\n",
        "\n",
        "# Get the R^2 value\n",
        "r_squared = model.get_r_squared()\n",
        "\n",
        "# Print the R^2 value\n",
        "print(\"R^2 value:\", r_squared)\n",
        "\n",
        "# Plot the regression line\n",
        "model.plot_regression_line(x, y)"
      ],
      "metadata": {
        "colab": {
          "base_uri": "https://localhost:8080/",
          "height": 507
        },
        "id": "lIDQ3KsNtfDQ",
        "outputId": "efaba8d5-1c78-452c-e3ed-d9fa79f68f16"
      },
      "execution_count": null,
      "outputs": [
        {
          "output_type": "stream",
          "name": "stdout",
          "text": [
            "Predictions: [2.8 3.4 4.  4.6 5.2]\n",
            "R^2 value: 0.6000000000000001\n"
          ]
        },
        {
          "output_type": "display_data",
          "data": {
            "text/plain": [
              "<Figure size 640x480 with 1 Axes>"
            ],
            "image/png": "[encoded data removed]"
          },
          "metadata": {}
        }
      ]
    },
    {
      "cell_type": "code",
      "source": [],
      "metadata": {
        "id": "lC5YoGge2NCi"
      },
      "execution_count": null,
      "outputs": []
    }
  ]
}