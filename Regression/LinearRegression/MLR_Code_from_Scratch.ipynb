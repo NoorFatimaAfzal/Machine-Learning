{
  "nbformat": 4,
  "nbformat_minor": 0,
  "metadata": {
    "colab": {
      "provenance": []
    },
    "kernelspec": {
      "name": "python3",
      "display_name": "Python 3"
    },
    "language_info": {
      "name": "python"
    }
  },
  "cells": [
    {
      "cell_type": "markdown",
      "source": [
        "1. **Adding the Bias Term to X_train:**\n",
        "\n",
        "   The bias term (intercept) is added to the training data `X_train` by inserting a column of 1's at the beginning of the matrix.\n",
        "\n",
        "   If `X_train` is an **m×n** matrix (where m  is the number of samples and n is the number of features), after adding the bias term, `X_train` becomes an **m×(n+1)** matrix.\n",
        "\n",
        "2. **Calculating the Coefficients (betas):**\n",
        "\n",
        "   The code uses the Normal Equation to compute the coefficients (including the intercept). The Normal Equation is given by:\n",
        "\n",
        "   $$\n",
        "   \\beta = (X^T X)^{-1} X^T y\n",
        "   $$\n",
        "\n",
        "   - X is the training data matrix after adding the bias term.\n",
        "   - X^T is the transpose of X.\n",
        "   - X^T X results in an **(n+1)×(n+1)** matrix.\n",
        "   - $$ (X^T X)^{-1} $$ is the inverse of the resulting matrix.\n",
        "   - X^T y results in an **(n+1)×1** vector.\n",
        "   - The result, β, is an **(n+1)×1** vector containing the intercept β0 and the coefficients $$ \\beta_1, \\beta_2, \\dots, \\beta_n $$.\n",
        "\n",
        "3. **Extracting the Intercept and Coefficients:**\n",
        "\n",
        "   - `self.intercept_ = betas[0]`: This assigns the first element of β (i.e., β0 to the intercept.\n",
        "   - `self.coef_ = betas[1:]`: This assigns the remaining elements of β i.e., $$ \\beta_1, \\beta_2, \\dots, \\beta_n $$ to the coefficients.\n",
        "\n",
        "4. **Making Predictions (predict method):**\n",
        "\n",
        "   For making predictions on new data (`X_test`), the linear regression model uses the equation:\n",
        "\n",
        "   $$\n",
        "   \\hat{y} = X_{\\text{test}} \\cdot \\beta_{\\text{coefficients}} + \\beta_{\\text{intercept}}\n",
        "   $$\n",
        "\n",
        "   - $$ X_{\\text{test}} $$ is the test data matrix (without the bias term).\n",
        "   - $$ \\beta_{\\text{coefficients}} $$ is the vector of coefficients (excluding the intercept).\n",
        "   - $$ \\beta_{\\text{intercept}} $$ is added to each prediction.\n",
        "\n",
        "   This equation calculates the predicted values for each row in `X_test`.\n",
        "\n",
        "   **Expanded Form:**\n",
        "\n",
        "   For a single data point x_i in `X_test`, the predicted value $$ \\hat{y}_i $$ is calculated as:\n",
        "\n",
        "   $$\n",
        "   \\hat{y}_i = \\beta_0 + \\beta_1 \\cdot x_{i1} + \\beta_2 \\cdot x_{i2} + \\dots + \\beta_n \\cdot x_{in}\n",
        "   $$\n",
        "\n",
        "   Where:\n",
        "    $$ \\beta_0 $$ is the intercept.\n",
        "    $$ \\beta_1, \\beta_2, \\dots, \\beta_n $$ are the coefficients.\n",
        "    $$ x_{i1}, x_{i2}, \\dots, x_{in} $$ are the feature values for the i-th data point."
      ],
      "metadata": {
        "id": "8OZPbjVVhHVE"
      }
    },
    {
      "cell_type": "code",
      "source": [
        "import numpy as np\n",
        "import plotly.graph_objects as go\n",
        "import plotly.express as px\n",
        "import pandas as pd"
      ],
      "metadata": {
        "id": "y71mpGcKjmyQ"
      },
      "execution_count": 12,
      "outputs": []
    },
    {
      "cell_type": "code",
      "execution_count": 13,
      "metadata": {
        "id": "23o_Npjwgc5m"
      },
      "outputs": [],
      "source": [
        "class MLR:\n",
        "\n",
        "    def __init__(self):\n",
        "        self.coef_ = None\n",
        "        self.intercept_ = None\n",
        "\n",
        "    def fit(self, X_train, y_train):\n",
        "        X_train = np.insert(X_train, 0, 1, axis=1)\n",
        "\n",
        "        # Calculate the coefficients\n",
        "        betas = np.linalg.inv(np.dot(X_train.T, X_train)).dot(X_train.T).dot(y_train)\n",
        "        self.intercept_ = betas[0]\n",
        "        self.coef_ = betas[1:]\n",
        "\n",
        "    def predict(self, X_test):\n",
        "        y_pred = np.dot(X_test, self.coef_) + self.intercept_\n",
        "        return y_pred\n",
        "\n",
        "    def visualize_regression_plane(self, X_train, y_train):\n",
        "        if X_train.shape[1] != 2:\n",
        "            raise ValueError(\"This visualization only works when there are exactly 2 features.\")\n",
        "\n",
        "        # Create a DataFrame for easier handling in Plotly\n",
        "        df = pd.DataFrame({\n",
        "            'feature1': X_train[:, 0],\n",
        "            'feature2': X_train[:, 1],\n",
        "            'target': y_train\n",
        "        })\n",
        "\n",
        "        # Create the grid for the regression plane\n",
        "        x = np.linspace(X_train[:, 0].min(), X_train[:, 0].max(), 10)\n",
        "        y = np.linspace(X_train[:, 1].min(), X_train[:, 1].max(), 10)\n",
        "        xGrid, yGrid = np.meshgrid(x, y)\n",
        "        final = np.vstack((xGrid.ravel(), yGrid.ravel())).T\n",
        "\n",
        "        # Predict the z values on the grid\n",
        "        z_final = self.predict(final).reshape(10, 10)\n",
        "\n",
        "        # Plot the scatter and the regression plane\n",
        "        fig = px.scatter_3d(df, x='feature1', y='feature2', z='target')\n",
        "        fig.add_trace(go.Surface(x=x, y=y, z=z_final, colorscale='Viridis', opacity=0.5))\n",
        "\n",
        "        # Show the figure\n",
        "        fig.show()"
      ]
    },
    {
      "cell_type": "code",
      "source": [
        "# Example usage with non-singular data:\n",
        "X_train = np.array([[1, 2], [2, 3], [3, 5], [4, 6], [5, 8]])  # Features are not linearly dependent\n",
        "y_train = np.array([4, 6, 7, 10, 11])\n",
        "\n",
        "mlr = MLR()\n",
        "mlr.fit(X_train, y_train)\n",
        "mlr.visualize_regression_plane(X_train, y_train)"
      ],
      "metadata": {
        "colab": {
          "base_uri": "https://localhost:8080/",
          "height": 542
        },
        "id": "BS5mCa6OhEWK",
        "outputId": "395e94b6-b338-4909-b979-45aa18a146ad"
      },
      "execution_count": 14,
      "outputs": [
        {
          "output_type": "display_data",
          "data": {
            "text/html": [
              "<html>\n",
              "<head><meta charset=\"utf-8\" /></head>\n",
              "<body>\n",
              "    <div>            <script src=\"https://cdnjs.cloudflare.com/ajax/libs/mathjax/2.7.5/MathJax.js?config=TeX-AMS-MML_SVG\"></script><script type=\"text/javascript\">if (window.MathJax && window.MathJax.Hub && window.MathJax.Hub.Config) {window.MathJax.Hub.Config({SVG: {font: \"STIX-Web\"}});}</script>                <script type=\"text/javascript\">window.PlotlyConfig = {MathJaxConfig: 'local'};</script>\n",
              "        <script charset=\"utf-8\" src=\"https://cdn.plot.ly/plotly-2.24.1.min.js\"></script>                <div id=\"a0e8c3cd-4f21-4e0d-84ce-d7394c94032e\" class=\"plotly-graph-div\" style=\"height:525px; width:100%;\"></div>            <script type=\"text/javascript\">                                    window.PLOTLYENV=window.PLOTLYENV || {};                                    if (document.getElementById(\"a0e8c3cd-4f21-4e0d-84ce-d7394c94032e\")) {                    Plotly.newPlot(                        \"a0e8c3cd-4f21-4e0d-84ce-d7394c94032e\",                        [{\"hovertemplate\":\"feature1=%{x}\\u003cbr\\u003efeature2=%{y}\\u003cbr\\u003etarget=%{z}\\u003cextra\\u003e\\u003c\\u002fextra\\u003e\",\"legendgroup\":\"\",\"marker\":{\"color\":\"#636efa\",\"symbol\":\"circle\"},\"mode\":\"markers\",\"name\":\"\",\"scene\":\"scene\",\"showlegend\":false,\"x\":[1,2,3,4,5],\"y\":[2,3,5,6,8],\"z\":[4,6,7,10,11],\"type\":\"scatter3d\"},{\"colorscale\":[[0.0,\"#440154\"],[0.1111111111111111,\"#482878\"],[0.2222222222222222,\"#3e4989\"],[0.3333333333333333,\"#31688e\"],[0.4444444444444444,\"#26828e\"],[0.5555555555555556,\"#1f9e89\"],[0.6666666666666666,\"#35b779\"],[0.7777777777777778,\"#6ece58\"],[0.8888888888888888,\"#b5de2b\"],[1.0,\"#fde725\"]],\"opacity\":0.5,\"x\":[1.0,1.4444444444444444,1.8888888888888888,2.333333333333333,2.7777777777777777,3.2222222222222223,3.6666666666666665,4.111111111111111,4.555555555555555,5.0],\"y\":[2.0,2.6666666666666665,3.333333333333333,4.0,4.666666666666666,5.333333333333333,6.0,6.666666666666666,7.333333333333333,8.0],\"z\":[[3.7333333333329666,5.422222222221936,7.111111111110905,8.799999999999873,10.488888888888843,12.177777777777811,13.866666666666779,15.555555555555747,17.244444444444717,18.93333333333369],[2.8444444444440906,4.53333333333306,6.222222222222029,7.911111111110997,9.599999999999966,11.288888888888934,12.977777777777902,14.66666666666687,16.355555555555842,18.044444444444814],[1.9555555555552147,3.6444444444441837,5.333333333333153,7.022222222222121,8.71111111111109,10.400000000000059,12.088888888889027,13.777777777777995,15.466666666666965,17.155555555555935],[1.0666666666663378,2.755555555555307,4.444444444444276,6.133333333333244,7.822222222222214,9.511111111111182,11.20000000000015,12.888888888889118,14.577777777778088,16.26666666666706],[0.17777777777746273,1.8666666666664318,3.555555555555401,5.244444444444369,6.933333333333339,8.622222222222307,10.311111111111275,12.000000000000243,13.688888888889213,15.377777777778185],[-0.7111111111114141,0.9777777777775549,2.666666666666524,4.355555555555492,6.044444444444462,7.73333333333343,9.422222222222398,11.111111111111367,12.800000000000336,14.488888888889308],[-1.600000000000291,0.08888888888867807,1.7777777777776471,3.4666666666666153,5.155555555555585,6.844444444444553,8.533333333333522,10.22222222222249,11.91111111111146,13.600000000000431],[-2.488888888889166,-0.800000000000197,0.888888888888772,2.57777777777774,4.26666666666671,5.955555555555678,7.644444444444646,9.333333333333615,11.022222222222585,12.711111111111556],[-3.377777777778043,-1.6888888888890738,-1.0480505352461478e-13,1.6888888888888633,3.3777777777778333,5.066666666666801,6.75555555555577,8.444444444444738,10.133333333333708,11.82222222222268],[-4.26666666666692,-2.5777777777779507,-0.8888888888889817,0.7999999999999865,2.4888888888889564,4.177777777777925,5.866666666666893,7.555555555555861,9.24444444444483,10.933333333333803]],\"type\":\"surface\"}],                        {\"template\":{\"data\":{\"histogram2dcontour\":[{\"type\":\"histogram2dcontour\",\"colorbar\":{\"outlinewidth\":0,\"ticks\":\"\"},\"colorscale\":[[0.0,\"#0d0887\"],[0.1111111111111111,\"#46039f\"],[0.2222222222222222,\"#7201a8\"],[0.3333333333333333,\"#9c179e\"],[0.4444444444444444,\"#bd3786\"],[0.5555555555555556,\"#d8576b\"],[0.6666666666666666,\"#ed7953\"],[0.7777777777777778,\"#fb9f3a\"],[0.8888888888888888,\"#fdca26\"],[1.0,\"#f0f921\"]]}],\"choropleth\":[{\"type\":\"choropleth\",\"colorbar\":{\"outlinewidth\":0,\"ticks\":\"\"}}],\"histogram2d\":[{\"type\":\"histogram2d\",\"colorbar\":{\"outlinewidth\":0,\"ticks\":\"\"},\"colorscale\":[[0.0,\"#0d0887\"],[0.1111111111111111,\"#46039f\"],[0.2222222222222222,\"#7201a8\"],[0.3333333333333333,\"#9c179e\"],[0.4444444444444444,\"#bd3786\"],[0.5555555555555556,\"#d8576b\"],[0.6666666666666666,\"#ed7953\"],[0.7777777777777778,\"#fb9f3a\"],[0.8888888888888888,\"#fdca26\"],[1.0,\"#f0f921\"]]}],\"heatmap\":[{\"type\":\"heatmap\",\"colorbar\":{\"outlinewidth\":0,\"ticks\":\"\"},\"colorscale\":[[0.0,\"#0d0887\"],[0.1111111111111111,\"#46039f\"],[0.2222222222222222,\"#7201a8\"],[0.3333333333333333,\"#9c179e\"],[0.4444444444444444,\"#bd3786\"],[0.5555555555555556,\"#d8576b\"],[0.6666666666666666,\"#ed7953\"],[0.7777777777777778,\"#fb9f3a\"],[0.8888888888888888,\"#fdca26\"],[1.0,\"#f0f921\"]]}],\"heatmapgl\":[{\"type\":\"heatmapgl\",\"colorbar\":{\"outlinewidth\":0,\"ticks\":\"\"},\"colorscale\":[[0.0,\"#0d0887\"],[0.1111111111111111,\"#46039f\"],[0.2222222222222222,\"#7201a8\"],[0.3333333333333333,\"#9c179e\"],[0.4444444444444444,\"#bd3786\"],[0.5555555555555556,\"#d8576b\"],[0.6666666666666666,\"#ed7953\"],[0.7777777777777778,\"#fb9f3a\"],[0.8888888888888888,\"#fdca26\"],[1.0,\"#f0f921\"]]}],\"contourcarpet\":[{\"type\":\"contourcarpet\",\"colorbar\":{\"outlinewidth\":0,\"ticks\":\"\"}}],\"contour\":[{\"type\":\"contour\",\"colorbar\":{\"outlinewidth\":0,\"ticks\":\"\"},\"colorscale\":[[0.0,\"#0d0887\"],[0.1111111111111111,\"#46039f\"],[0.2222222222222222,\"#7201a8\"],[0.3333333333333333,\"#9c179e\"],[0.4444444444444444,\"#bd3786\"],[0.5555555555555556,\"#d8576b\"],[0.6666666666666666,\"#ed7953\"],[0.7777777777777778,\"#fb9f3a\"],[0.8888888888888888,\"#fdca26\"],[1.0,\"#f0f921\"]]}],\"surface\":[{\"type\":\"surface\",\"colorbar\":{\"outlinewidth\":0,\"ticks\":\"\"},\"colorscale\":[[0.0,\"#0d0887\"],[0.1111111111111111,\"#46039f\"],[0.2222222222222222,\"#7201a8\"],[0.3333333333333333,\"#9c179e\"],[0.4444444444444444,\"#bd3786\"],[0.5555555555555556,\"#d8576b\"],[0.6666666666666666,\"#ed7953\"],[0.7777777777777778,\"#fb9f3a\"],[0.8888888888888888,\"#fdca26\"],[1.0,\"#f0f921\"]]}],\"mesh3d\":[{\"type\":\"mesh3d\",\"colorbar\":{\"outlinewidth\":0,\"ticks\":\"\"}}],\"scatter\":[{\"fillpattern\":{\"fillmode\":\"overlay\",\"size\":10,\"solidity\":0.2},\"type\":\"scatter\"}],\"parcoords\":[{\"type\":\"parcoords\",\"line\":{\"colorbar\":{\"outlinewidth\":0,\"ticks\":\"\"}}}],\"scatterpolargl\":[{\"type\":\"scatterpolargl\",\"marker\":{\"colorbar\":{\"outlinewidth\":0,\"ticks\":\"\"}}}],\"bar\":[{\"error_x\":{\"color\":\"#2a3f5f\"},\"error_y\":{\"color\":\"#2a3f5f\"},\"marker\":{\"line\":{\"color\":\"#E5ECF6\",\"width\":0.5},\"pattern\":{\"fillmode\":\"overlay\",\"size\":10,\"solidity\":0.2}},\"type\":\"bar\"}],\"scattergeo\":[{\"type\":\"scattergeo\",\"marker\":{\"colorbar\":{\"outlinewidth\":0,\"ticks\":\"\"}}}],\"scatterpolar\":[{\"type\":\"scatterpolar\",\"marker\":{\"colorbar\":{\"outlinewidth\":0,\"ticks\":\"\"}}}],\"histogram\":[{\"marker\":{\"pattern\":{\"fillmode\":\"overlay\",\"size\":10,\"solidity\":0.2}},\"type\":\"histogram\"}],\"scattergl\":[{\"type\":\"scattergl\",\"marker\":{\"colorbar\":{\"outlinewidth\":0,\"ticks\":\"\"}}}],\"scatter3d\":[{\"type\":\"scatter3d\",\"line\":{\"colorbar\":{\"outlinewidth\":0,\"ticks\":\"\"}},\"marker\":{\"colorbar\":{\"outlinewidth\":0,\"ticks\":\"\"}}}],\"scattermapbox\":[{\"type\":\"scattermapbox\",\"marker\":{\"colorbar\":{\"outlinewidth\":0,\"ticks\":\"\"}}}],\"scatterternary\":[{\"type\":\"scatterternary\",\"marker\":{\"colorbar\":{\"outlinewidth\":0,\"ticks\":\"\"}}}],\"scattercarpet\":[{\"type\":\"scattercarpet\",\"marker\":{\"colorbar\":{\"outlinewidth\":0,\"ticks\":\"\"}}}],\"carpet\":[{\"aaxis\":{\"endlinecolor\":\"#2a3f5f\",\"gridcolor\":\"white\",\"linecolor\":\"white\",\"minorgridcolor\":\"white\",\"startlinecolor\":\"#2a3f5f\"},\"baxis\":{\"endlinecolor\":\"#2a3f5f\",\"gridcolor\":\"white\",\"linecolor\":\"white\",\"minorgridcolor\":\"white\",\"startlinecolor\":\"#2a3f5f\"},\"type\":\"carpet\"}],\"table\":[{\"cells\":{\"fill\":{\"color\":\"#EBF0F8\"},\"line\":{\"color\":\"white\"}},\"header\":{\"fill\":{\"color\":\"#C8D4E3\"},\"line\":{\"color\":\"white\"}},\"type\":\"table\"}],\"barpolar\":[{\"marker\":{\"line\":{\"color\":\"#E5ECF6\",\"width\":0.5},\"pattern\":{\"fillmode\":\"overlay\",\"size\":10,\"solidity\":0.2}},\"type\":\"barpolar\"}],\"pie\":[{\"automargin\":true,\"type\":\"pie\"}]},\"layout\":{\"autotypenumbers\":\"strict\",\"colorway\":[\"#636efa\",\"#EF553B\",\"#00cc96\",\"#ab63fa\",\"#FFA15A\",\"#19d3f3\",\"#FF6692\",\"#B6E880\",\"#FF97FF\",\"#FECB52\"],\"font\":{\"color\":\"#2a3f5f\"},\"hovermode\":\"closest\",\"hoverlabel\":{\"align\":\"left\"},\"paper_bgcolor\":\"white\",\"plot_bgcolor\":\"#E5ECF6\",\"polar\":{\"bgcolor\":\"#E5ECF6\",\"angularaxis\":{\"gridcolor\":\"white\",\"linecolor\":\"white\",\"ticks\":\"\"},\"radialaxis\":{\"gridcolor\":\"white\",\"linecolor\":\"white\",\"ticks\":\"\"}},\"ternary\":{\"bgcolor\":\"#E5ECF6\",\"aaxis\":{\"gridcolor\":\"white\",\"linecolor\":\"white\",\"ticks\":\"\"},\"baxis\":{\"gridcolor\":\"white\",\"linecolor\":\"white\",\"ticks\":\"\"},\"caxis\":{\"gridcolor\":\"white\",\"linecolor\":\"white\",\"ticks\":\"\"}},\"coloraxis\":{\"colorbar\":{\"outlinewidth\":0,\"ticks\":\"\"}},\"colorscale\":{\"sequential\":[[0.0,\"#0d0887\"],[0.1111111111111111,\"#46039f\"],[0.2222222222222222,\"#7201a8\"],[0.3333333333333333,\"#9c179e\"],[0.4444444444444444,\"#bd3786\"],[0.5555555555555556,\"#d8576b\"],[0.6666666666666666,\"#ed7953\"],[0.7777777777777778,\"#fb9f3a\"],[0.8888888888888888,\"#fdca26\"],[1.0,\"#f0f921\"]],\"sequentialminus\":[[0.0,\"#0d0887\"],[0.1111111111111111,\"#46039f\"],[0.2222222222222222,\"#7201a8\"],[0.3333333333333333,\"#9c179e\"],[0.4444444444444444,\"#bd3786\"],[0.5555555555555556,\"#d8576b\"],[0.6666666666666666,\"#ed7953\"],[0.7777777777777778,\"#fb9f3a\"],[0.8888888888888888,\"#fdca26\"],[1.0,\"#f0f921\"]],\"diverging\":[[0,\"#8e0152\"],[0.1,\"#c51b7d\"],[0.2,\"#de77ae\"],[0.3,\"#f1b6da\"],[0.4,\"#fde0ef\"],[0.5,\"#f7f7f7\"],[0.6,\"#e6f5d0\"],[0.7,\"#b8e186\"],[0.8,\"#7fbc41\"],[0.9,\"#4d9221\"],[1,\"#276419\"]]},\"xaxis\":{\"gridcolor\":\"white\",\"linecolor\":\"white\",\"ticks\":\"\",\"title\":{\"standoff\":15},\"zerolinecolor\":\"white\",\"automargin\":true,\"zerolinewidth\":2},\"yaxis\":{\"gridcolor\":\"white\",\"linecolor\":\"white\",\"ticks\":\"\",\"title\":{\"standoff\":15},\"zerolinecolor\":\"white\",\"automargin\":true,\"zerolinewidth\":2},\"scene\":{\"xaxis\":{\"backgroundcolor\":\"#E5ECF6\",\"gridcolor\":\"white\",\"linecolor\":\"white\",\"showbackground\":true,\"ticks\":\"\",\"zerolinecolor\":\"white\",\"gridwidth\":2},\"yaxis\":{\"backgroundcolor\":\"#E5ECF6\",\"gridcolor\":\"white\",\"linecolor\":\"white\",\"showbackground\":true,\"ticks\":\"\",\"zerolinecolor\":\"white\",\"gridwidth\":2},\"zaxis\":{\"backgroundcolor\":\"#E5ECF6\",\"gridcolor\":\"white\",\"linecolor\":\"white\",\"showbackground\":true,\"ticks\":\"\",\"zerolinecolor\":\"white\",\"gridwidth\":2}},\"shapedefaults\":{\"line\":{\"color\":\"#2a3f5f\"}},\"annotationdefaults\":{\"arrowcolor\":\"#2a3f5f\",\"arrowhead\":0,\"arrowwidth\":1},\"geo\":{\"bgcolor\":\"white\",\"landcolor\":\"#E5ECF6\",\"subunitcolor\":\"white\",\"showland\":true,\"showlakes\":true,\"lakecolor\":\"white\"},\"title\":{\"x\":0.05},\"mapbox\":{\"style\":\"light\"}}},\"scene\":{\"domain\":{\"x\":[0.0,1.0],\"y\":[0.0,1.0]},\"xaxis\":{\"title\":{\"text\":\"feature1\"}},\"yaxis\":{\"title\":{\"text\":\"feature2\"}},\"zaxis\":{\"title\":{\"text\":\"target\"}}},\"legend\":{\"tracegroupgap\":0},\"margin\":{\"t\":60}},                        {\"responsive\": true}                    ).then(function(){\n",
              "                            \n",
              "var gd = document.getElementById('a0e8c3cd-4f21-4e0d-84ce-d7394c94032e');\n",
              "var x = new MutationObserver(function (mutations, observer) {{\n",
              "        var display = window.getComputedStyle(gd).display;\n",
              "        if (!display || display === 'none') {{\n",
              "            console.log([gd, 'removed!']);\n",
              "            Plotly.purge(gd);\n",
              "            observer.disconnect();\n",
              "        }}\n",
              "}});\n",
              "\n",
              "// Listen for the removal of the full notebook cells\n",
              "var notebookContainer = gd.closest('#notebook-container');\n",
              "if (notebookContainer) {{\n",
              "    x.observe(notebookContainer, {childList: true});\n",
              "}}\n",
              "\n",
              "// Listen for the clearing of the current output cell\n",
              "var outputEl = gd.closest('.output');\n",
              "if (outputEl) {{\n",
              "    x.observe(outputEl, {childList: true});\n",
              "}}\n",
              "\n",
              "                        })                };                            </script>        </div>\n",
              "</body>\n",
              "</html>"
            ]
          },
          "metadata": {}
        }
      ]
    },
    {
      "cell_type": "code",
      "source": [],
      "metadata": {
        "id": "pVfhMPIem2-z"
      },
      "execution_count": null,
      "outputs": []
    }
  ]
}